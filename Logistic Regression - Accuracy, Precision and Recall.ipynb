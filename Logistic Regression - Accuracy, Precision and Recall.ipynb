{
 "cells": [
  {
   "cell_type": "markdown",
   "id": "0a8d9ed5",
   "metadata": {},
   "source": [
    "### Logistic regression"
   ]
  },
  {
   "cell_type": "markdown",
   "id": "90201566",
   "metadata": {},
   "source": [
    "#### Importing all the library"
   ]
  },
  {
   "cell_type": "code",
   "execution_count": 1,
   "id": "3333bd02",
   "metadata": {},
   "outputs": [
    {
     "name": "stdout",
     "output_type": "stream",
     "text": [
      "Requirement already satisfied: imblearn in c:\\users\\kisan\\anaconda3\\lib\\site-packages (0.0)\n",
      "Requirement already satisfied: imbalanced-learn in c:\\users\\kisan\\anaconda3\\lib\\site-packages (from imblearn) (0.9.0)\n",
      "Requirement already satisfied: scikit-learn>=1.0.1 in c:\\users\\kisan\\anaconda3\\lib\\site-packages (from imbalanced-learn->imblearn) (1.0.2)\n",
      "Requirement already satisfied: scipy>=1.1.0 in c:\\users\\kisan\\anaconda3\\lib\\site-packages (from imbalanced-learn->imblearn) (1.6.2)\n",
      "Requirement already satisfied: threadpoolctl>=2.0.0 in c:\\users\\kisan\\anaconda3\\lib\\site-packages (from imbalanced-learn->imblearn) (2.1.0)\n",
      "Requirement already satisfied: numpy>=1.14.6 in c:\\users\\kisan\\anaconda3\\lib\\site-packages (from imbalanced-learn->imblearn) (1.20.1)\n",
      "Requirement already satisfied: joblib>=0.11 in c:\\users\\kisan\\anaconda3\\lib\\site-packages (from imbalanced-learn->imblearn) (1.0.1)\n",
      "Note: you may need to restart the kernel to use updated packages.\n"
     ]
    }
   ],
   "source": [
    "pip install imblearn"
   ]
  },
  {
   "cell_type": "code",
   "execution_count": 2,
   "id": "665b6c3c",
   "metadata": {},
   "outputs": [],
   "source": [
    "from imblearn.datasets import fetch_datasets"
   ]
  },
  {
   "cell_type": "code",
   "execution_count": 3,
   "id": "2a86e8f8",
   "metadata": {},
   "outputs": [],
   "source": [
    "thyroid_sick_df = fetch_datasets()['thyroid_sick']"
   ]
  },
  {
   "cell_type": "code",
   "execution_count": 4,
   "id": "6f2ebb2a",
   "metadata": {},
   "outputs": [
    {
     "data": {
      "text/plain": [
       "{'data': array([[41.,  1.,  0., ...,  1.,  0.,  0.],\n",
       "        [23.,  1.,  0., ...,  0.,  0.,  0.],\n",
       "        [46.,  0.,  1., ...,  0.,  0.,  0.],\n",
       "        ...,\n",
       "        [74.,  1.,  0., ...,  0.,  0.,  0.],\n",
       "        [72.,  0.,  1., ...,  0.,  0.,  1.],\n",
       "        [64.,  1.,  0., ...,  0.,  0.,  0.]]),\n",
       " 'target': array([-1, -1, -1, ..., -1, -1, -1], dtype=int64),\n",
       " 'DESCR': 'thyroid_sick'}"
      ]
     },
     "execution_count": 4,
     "metadata": {},
     "output_type": "execute_result"
    }
   ],
   "source": [
    "thyroid_sick_df"
   ]
  },
  {
   "cell_type": "markdown",
   "id": "9110ebda",
   "metadata": {},
   "source": [
    "#### Split the data into x and y(target feature)"
   ]
  },
  {
   "cell_type": "code",
   "execution_count": 5,
   "id": "6857de09",
   "metadata": {},
   "outputs": [],
   "source": [
    "import pandas as pd"
   ]
  },
  {
   "cell_type": "code",
   "execution_count": 6,
   "id": "1b862c5b",
   "metadata": {},
   "outputs": [],
   "source": [
    "X = pd.DataFrame(thyroid_sick_df['data'])"
   ]
  },
  {
   "cell_type": "code",
   "execution_count": 7,
   "id": "acf9f21a",
   "metadata": {},
   "outputs": [
    {
     "data": {
      "text/html": [
       "<div>\n",
       "<style scoped>\n",
       "    .dataframe tbody tr th:only-of-type {\n",
       "        vertical-align: middle;\n",
       "    }\n",
       "\n",
       "    .dataframe tbody tr th {\n",
       "        vertical-align: top;\n",
       "    }\n",
       "\n",
       "    .dataframe thead th {\n",
       "        text-align: right;\n",
       "    }\n",
       "</style>\n",
       "<table border=\"1\" class=\"dataframe\">\n",
       "  <thead>\n",
       "    <tr style=\"text-align: right;\">\n",
       "      <th></th>\n",
       "      <th>0</th>\n",
       "      <th>1</th>\n",
       "      <th>2</th>\n",
       "      <th>3</th>\n",
       "      <th>4</th>\n",
       "      <th>5</th>\n",
       "      <th>6</th>\n",
       "      <th>7</th>\n",
       "      <th>8</th>\n",
       "      <th>9</th>\n",
       "      <th>...</th>\n",
       "      <th>42</th>\n",
       "      <th>43</th>\n",
       "      <th>44</th>\n",
       "      <th>45</th>\n",
       "      <th>46</th>\n",
       "      <th>47</th>\n",
       "      <th>48</th>\n",
       "      <th>49</th>\n",
       "      <th>50</th>\n",
       "      <th>51</th>\n",
       "    </tr>\n",
       "  </thead>\n",
       "  <tbody>\n",
       "    <tr>\n",
       "      <th>0</th>\n",
       "      <td>41.0</td>\n",
       "      <td>1.0</td>\n",
       "      <td>0.0</td>\n",
       "      <td>1.0</td>\n",
       "      <td>0.0</td>\n",
       "      <td>1.0</td>\n",
       "      <td>0.0</td>\n",
       "      <td>1.0</td>\n",
       "      <td>0.0</td>\n",
       "      <td>1.0</td>\n",
       "      <td>...</td>\n",
       "      <td>1.14</td>\n",
       "      <td>0.0</td>\n",
       "      <td>1.0</td>\n",
       "      <td>109.0</td>\n",
       "      <td>1.0</td>\n",
       "      <td>0.0</td>\n",
       "      <td>0.0</td>\n",
       "      <td>1.0</td>\n",
       "      <td>0.0</td>\n",
       "      <td>0.0</td>\n",
       "    </tr>\n",
       "    <tr>\n",
       "      <th>1</th>\n",
       "      <td>23.0</td>\n",
       "      <td>1.0</td>\n",
       "      <td>0.0</td>\n",
       "      <td>1.0</td>\n",
       "      <td>0.0</td>\n",
       "      <td>1.0</td>\n",
       "      <td>0.0</td>\n",
       "      <td>1.0</td>\n",
       "      <td>0.0</td>\n",
       "      <td>1.0</td>\n",
       "      <td>...</td>\n",
       "      <td>0.31</td>\n",
       "      <td>1.0</td>\n",
       "      <td>0.0</td>\n",
       "      <td>88.0</td>\n",
       "      <td>1.0</td>\n",
       "      <td>1.0</td>\n",
       "      <td>0.0</td>\n",
       "      <td>0.0</td>\n",
       "      <td>0.0</td>\n",
       "      <td>0.0</td>\n",
       "    </tr>\n",
       "    <tr>\n",
       "      <th>2</th>\n",
       "      <td>46.0</td>\n",
       "      <td>0.0</td>\n",
       "      <td>1.0</td>\n",
       "      <td>1.0</td>\n",
       "      <td>0.0</td>\n",
       "      <td>1.0</td>\n",
       "      <td>0.0</td>\n",
       "      <td>1.0</td>\n",
       "      <td>0.0</td>\n",
       "      <td>1.0</td>\n",
       "      <td>...</td>\n",
       "      <td>0.91</td>\n",
       "      <td>0.0</td>\n",
       "      <td>1.0</td>\n",
       "      <td>120.0</td>\n",
       "      <td>1.0</td>\n",
       "      <td>1.0</td>\n",
       "      <td>0.0</td>\n",
       "      <td>0.0</td>\n",
       "      <td>0.0</td>\n",
       "      <td>0.0</td>\n",
       "    </tr>\n",
       "    <tr>\n",
       "      <th>3</th>\n",
       "      <td>70.0</td>\n",
       "      <td>1.0</td>\n",
       "      <td>0.0</td>\n",
       "      <td>0.0</td>\n",
       "      <td>1.0</td>\n",
       "      <td>1.0</td>\n",
       "      <td>0.0</td>\n",
       "      <td>1.0</td>\n",
       "      <td>0.0</td>\n",
       "      <td>1.0</td>\n",
       "      <td>...</td>\n",
       "      <td>1.20</td>\n",
       "      <td>1.0</td>\n",
       "      <td>0.0</td>\n",
       "      <td>50.0</td>\n",
       "      <td>1.0</td>\n",
       "      <td>1.0</td>\n",
       "      <td>0.0</td>\n",
       "      <td>0.0</td>\n",
       "      <td>0.0</td>\n",
       "      <td>0.0</td>\n",
       "    </tr>\n",
       "    <tr>\n",
       "      <th>4</th>\n",
       "      <td>70.0</td>\n",
       "      <td>1.0</td>\n",
       "      <td>0.0</td>\n",
       "      <td>1.0</td>\n",
       "      <td>0.0</td>\n",
       "      <td>1.0</td>\n",
       "      <td>0.0</td>\n",
       "      <td>1.0</td>\n",
       "      <td>0.0</td>\n",
       "      <td>1.0</td>\n",
       "      <td>...</td>\n",
       "      <td>0.87</td>\n",
       "      <td>0.0</td>\n",
       "      <td>1.0</td>\n",
       "      <td>70.0</td>\n",
       "      <td>1.0</td>\n",
       "      <td>0.0</td>\n",
       "      <td>0.0</td>\n",
       "      <td>0.0</td>\n",
       "      <td>0.0</td>\n",
       "      <td>1.0</td>\n",
       "    </tr>\n",
       "    <tr>\n",
       "      <th>...</th>\n",
       "      <td>...</td>\n",
       "      <td>...</td>\n",
       "      <td>...</td>\n",
       "      <td>...</td>\n",
       "      <td>...</td>\n",
       "      <td>...</td>\n",
       "      <td>...</td>\n",
       "      <td>...</td>\n",
       "      <td>...</td>\n",
       "      <td>...</td>\n",
       "      <td>...</td>\n",
       "      <td>...</td>\n",
       "      <td>...</td>\n",
       "      <td>...</td>\n",
       "      <td>...</td>\n",
       "      <td>...</td>\n",
       "      <td>...</td>\n",
       "      <td>...</td>\n",
       "      <td>...</td>\n",
       "      <td>...</td>\n",
       "      <td>...</td>\n",
       "    </tr>\n",
       "    <tr>\n",
       "      <th>3767</th>\n",
       "      <td>30.0</td>\n",
       "      <td>1.0</td>\n",
       "      <td>0.0</td>\n",
       "      <td>1.0</td>\n",
       "      <td>0.0</td>\n",
       "      <td>1.0</td>\n",
       "      <td>0.0</td>\n",
       "      <td>1.0</td>\n",
       "      <td>0.0</td>\n",
       "      <td>1.0</td>\n",
       "      <td>...</td>\n",
       "      <td>0.46</td>\n",
       "      <td>1.0</td>\n",
       "      <td>0.0</td>\n",
       "      <td>245.0</td>\n",
       "      <td>1.0</td>\n",
       "      <td>1.0</td>\n",
       "      <td>0.0</td>\n",
       "      <td>0.0</td>\n",
       "      <td>0.0</td>\n",
       "      <td>0.0</td>\n",
       "    </tr>\n",
       "    <tr>\n",
       "      <th>3768</th>\n",
       "      <td>68.0</td>\n",
       "      <td>1.0</td>\n",
       "      <td>0.0</td>\n",
       "      <td>1.0</td>\n",
       "      <td>0.0</td>\n",
       "      <td>1.0</td>\n",
       "      <td>0.0</td>\n",
       "      <td>1.0</td>\n",
       "      <td>0.0</td>\n",
       "      <td>1.0</td>\n",
       "      <td>...</td>\n",
       "      <td>1.08</td>\n",
       "      <td>0.0</td>\n",
       "      <td>1.0</td>\n",
       "      <td>114.0</td>\n",
       "      <td>1.0</td>\n",
       "      <td>0.0</td>\n",
       "      <td>0.0</td>\n",
       "      <td>0.0</td>\n",
       "      <td>0.0</td>\n",
       "      <td>1.0</td>\n",
       "    </tr>\n",
       "    <tr>\n",
       "      <th>3769</th>\n",
       "      <td>74.0</td>\n",
       "      <td>1.0</td>\n",
       "      <td>0.0</td>\n",
       "      <td>1.0</td>\n",
       "      <td>0.0</td>\n",
       "      <td>1.0</td>\n",
       "      <td>0.0</td>\n",
       "      <td>1.0</td>\n",
       "      <td>0.0</td>\n",
       "      <td>1.0</td>\n",
       "      <td>...</td>\n",
       "      <td>1.07</td>\n",
       "      <td>0.0</td>\n",
       "      <td>1.0</td>\n",
       "      <td>105.0</td>\n",
       "      <td>1.0</td>\n",
       "      <td>1.0</td>\n",
       "      <td>0.0</td>\n",
       "      <td>0.0</td>\n",
       "      <td>0.0</td>\n",
       "      <td>0.0</td>\n",
       "    </tr>\n",
       "    <tr>\n",
       "      <th>3770</th>\n",
       "      <td>72.0</td>\n",
       "      <td>0.0</td>\n",
       "      <td>1.0</td>\n",
       "      <td>1.0</td>\n",
       "      <td>0.0</td>\n",
       "      <td>1.0</td>\n",
       "      <td>0.0</td>\n",
       "      <td>1.0</td>\n",
       "      <td>0.0</td>\n",
       "      <td>1.0</td>\n",
       "      <td>...</td>\n",
       "      <td>0.94</td>\n",
       "      <td>0.0</td>\n",
       "      <td>1.0</td>\n",
       "      <td>87.0</td>\n",
       "      <td>1.0</td>\n",
       "      <td>0.0</td>\n",
       "      <td>0.0</td>\n",
       "      <td>0.0</td>\n",
       "      <td>0.0</td>\n",
       "      <td>1.0</td>\n",
       "    </tr>\n",
       "    <tr>\n",
       "      <th>3771</th>\n",
       "      <td>64.0</td>\n",
       "      <td>1.0</td>\n",
       "      <td>0.0</td>\n",
       "      <td>1.0</td>\n",
       "      <td>0.0</td>\n",
       "      <td>1.0</td>\n",
       "      <td>0.0</td>\n",
       "      <td>1.0</td>\n",
       "      <td>0.0</td>\n",
       "      <td>1.0</td>\n",
       "      <td>...</td>\n",
       "      <td>1.07</td>\n",
       "      <td>0.0</td>\n",
       "      <td>1.0</td>\n",
       "      <td>92.0</td>\n",
       "      <td>1.0</td>\n",
       "      <td>1.0</td>\n",
       "      <td>0.0</td>\n",
       "      <td>0.0</td>\n",
       "      <td>0.0</td>\n",
       "      <td>0.0</td>\n",
       "    </tr>\n",
       "  </tbody>\n",
       "</table>\n",
       "<p>3772 rows × 52 columns</p>\n",
       "</div>"
      ],
      "text/plain": [
       "        0    1    2    3    4    5    6    7    8    9   ...    42   43   44  \\\n",
       "0     41.0  1.0  0.0  1.0  0.0  1.0  0.0  1.0  0.0  1.0  ...  1.14  0.0  1.0   \n",
       "1     23.0  1.0  0.0  1.0  0.0  1.0  0.0  1.0  0.0  1.0  ...  0.31  1.0  0.0   \n",
       "2     46.0  0.0  1.0  1.0  0.0  1.0  0.0  1.0  0.0  1.0  ...  0.91  0.0  1.0   \n",
       "3     70.0  1.0  0.0  0.0  1.0  1.0  0.0  1.0  0.0  1.0  ...  1.20  1.0  0.0   \n",
       "4     70.0  1.0  0.0  1.0  0.0  1.0  0.0  1.0  0.0  1.0  ...  0.87  0.0  1.0   \n",
       "...    ...  ...  ...  ...  ...  ...  ...  ...  ...  ...  ...   ...  ...  ...   \n",
       "3767  30.0  1.0  0.0  1.0  0.0  1.0  0.0  1.0  0.0  1.0  ...  0.46  1.0  0.0   \n",
       "3768  68.0  1.0  0.0  1.0  0.0  1.0  0.0  1.0  0.0  1.0  ...  1.08  0.0  1.0   \n",
       "3769  74.0  1.0  0.0  1.0  0.0  1.0  0.0  1.0  0.0  1.0  ...  1.07  0.0  1.0   \n",
       "3770  72.0  0.0  1.0  1.0  0.0  1.0  0.0  1.0  0.0  1.0  ...  0.94  0.0  1.0   \n",
       "3771  64.0  1.0  0.0  1.0  0.0  1.0  0.0  1.0  0.0  1.0  ...  1.07  0.0  1.0   \n",
       "\n",
       "         45   46   47   48   49   50   51  \n",
       "0     109.0  1.0  0.0  0.0  1.0  0.0  0.0  \n",
       "1      88.0  1.0  1.0  0.0  0.0  0.0  0.0  \n",
       "2     120.0  1.0  1.0  0.0  0.0  0.0  0.0  \n",
       "3      50.0  1.0  1.0  0.0  0.0  0.0  0.0  \n",
       "4      70.0  1.0  0.0  0.0  0.0  0.0  1.0  \n",
       "...     ...  ...  ...  ...  ...  ...  ...  \n",
       "3767  245.0  1.0  1.0  0.0  0.0  0.0  0.0  \n",
       "3768  114.0  1.0  0.0  0.0  0.0  0.0  1.0  \n",
       "3769  105.0  1.0  1.0  0.0  0.0  0.0  0.0  \n",
       "3770   87.0  1.0  0.0  0.0  0.0  0.0  1.0  \n",
       "3771   92.0  1.0  1.0  0.0  0.0  0.0  0.0  \n",
       "\n",
       "[3772 rows x 52 columns]"
      ]
     },
     "execution_count": 7,
     "metadata": {},
     "output_type": "execute_result"
    }
   ],
   "source": [
    "X"
   ]
  },
  {
   "cell_type": "code",
   "execution_count": 8,
   "id": "080337d8",
   "metadata": {},
   "outputs": [],
   "source": [
    "Y = pd.DataFrame(thyroid_sick_df['target'])"
   ]
  },
  {
   "cell_type": "code",
   "execution_count": 9,
   "id": "e4fb9c51",
   "metadata": {},
   "outputs": [
    {
     "data": {
      "text/html": [
       "<div>\n",
       "<style scoped>\n",
       "    .dataframe tbody tr th:only-of-type {\n",
       "        vertical-align: middle;\n",
       "    }\n",
       "\n",
       "    .dataframe tbody tr th {\n",
       "        vertical-align: top;\n",
       "    }\n",
       "\n",
       "    .dataframe thead th {\n",
       "        text-align: right;\n",
       "    }\n",
       "</style>\n",
       "<table border=\"1\" class=\"dataframe\">\n",
       "  <thead>\n",
       "    <tr style=\"text-align: right;\">\n",
       "      <th></th>\n",
       "      <th>0</th>\n",
       "    </tr>\n",
       "  </thead>\n",
       "  <tbody>\n",
       "    <tr>\n",
       "      <th>0</th>\n",
       "      <td>-1</td>\n",
       "    </tr>\n",
       "    <tr>\n",
       "      <th>1</th>\n",
       "      <td>-1</td>\n",
       "    </tr>\n",
       "    <tr>\n",
       "      <th>2</th>\n",
       "      <td>-1</td>\n",
       "    </tr>\n",
       "    <tr>\n",
       "      <th>3</th>\n",
       "      <td>-1</td>\n",
       "    </tr>\n",
       "    <tr>\n",
       "      <th>4</th>\n",
       "      <td>-1</td>\n",
       "    </tr>\n",
       "    <tr>\n",
       "      <th>...</th>\n",
       "      <td>...</td>\n",
       "    </tr>\n",
       "    <tr>\n",
       "      <th>3767</th>\n",
       "      <td>-1</td>\n",
       "    </tr>\n",
       "    <tr>\n",
       "      <th>3768</th>\n",
       "      <td>-1</td>\n",
       "    </tr>\n",
       "    <tr>\n",
       "      <th>3769</th>\n",
       "      <td>-1</td>\n",
       "    </tr>\n",
       "    <tr>\n",
       "      <th>3770</th>\n",
       "      <td>-1</td>\n",
       "    </tr>\n",
       "    <tr>\n",
       "      <th>3771</th>\n",
       "      <td>-1</td>\n",
       "    </tr>\n",
       "  </tbody>\n",
       "</table>\n",
       "<p>3772 rows × 1 columns</p>\n",
       "</div>"
      ],
      "text/plain": [
       "      0\n",
       "0    -1\n",
       "1    -1\n",
       "2    -1\n",
       "3    -1\n",
       "4    -1\n",
       "...  ..\n",
       "3767 -1\n",
       "3768 -1\n",
       "3769 -1\n",
       "3770 -1\n",
       "3771 -1\n",
       "\n",
       "[3772 rows x 1 columns]"
      ]
     },
     "execution_count": 9,
     "metadata": {},
     "output_type": "execute_result"
    }
   ],
   "source": [
    "Y"
   ]
  },
  {
   "cell_type": "code",
   "execution_count": 10,
   "id": "82e8a8ea",
   "metadata": {},
   "outputs": [
    {
     "data": {
      "text/plain": [
       "RangeIndex(start=0, stop=1, step=1)"
      ]
     },
     "execution_count": 10,
     "metadata": {},
     "output_type": "execute_result"
    }
   ],
   "source": [
    "Y.columns"
   ]
  },
  {
   "cell_type": "code",
   "execution_count": 11,
   "id": "15a0e46c",
   "metadata": {},
   "outputs": [],
   "source": [
    "x = thyroid_sick_df['data']"
   ]
  },
  {
   "cell_type": "code",
   "execution_count": 12,
   "id": "3ad26624",
   "metadata": {},
   "outputs": [
    {
     "data": {
      "text/plain": [
       "array([[41.,  1.,  0., ...,  1.,  0.,  0.],\n",
       "       [23.,  1.,  0., ...,  0.,  0.,  0.],\n",
       "       [46.,  0.,  1., ...,  0.,  0.,  0.],\n",
       "       ...,\n",
       "       [74.,  1.,  0., ...,  0.,  0.,  0.],\n",
       "       [72.,  0.,  1., ...,  0.,  0.,  1.],\n",
       "       [64.,  1.,  0., ...,  0.,  0.,  0.]])"
      ]
     },
     "execution_count": 12,
     "metadata": {},
     "output_type": "execute_result"
    }
   ],
   "source": [
    "x"
   ]
  },
  {
   "cell_type": "code",
   "execution_count": 13,
   "id": "de3cef02",
   "metadata": {},
   "outputs": [],
   "source": [
    "y = thyroid_sick_df['target']"
   ]
  },
  {
   "cell_type": "code",
   "execution_count": 14,
   "id": "fbe50b9a",
   "metadata": {},
   "outputs": [
    {
     "data": {
      "text/plain": [
       "array([-1, -1, -1, ..., -1, -1, -1], dtype=int64)"
      ]
     },
     "execution_count": 14,
     "metadata": {},
     "output_type": "execute_result"
    }
   ],
   "source": [
    "y"
   ]
  },
  {
   "cell_type": "markdown",
   "id": "1a46646c",
   "metadata": {},
   "source": [
    "#### Split the data into X_train, X_test, y_train, y_test"
   ]
  },
  {
   "cell_type": "code",
   "execution_count": 15,
   "id": "662de9e1",
   "metadata": {},
   "outputs": [],
   "source": [
    "from sklearn.model_selection import train_test_split"
   ]
  },
  {
   "cell_type": "code",
   "execution_count": 16,
   "id": "533621aa",
   "metadata": {},
   "outputs": [],
   "source": [
    "X_train, X_test, y_train, y_test = train_test_split(x,y,test_size=0.3, random_state=4)"
   ]
  },
  {
   "cell_type": "code",
   "execution_count": 17,
   "id": "04c9c2a1",
   "metadata": {},
   "outputs": [
    {
     "data": {
      "text/plain": [
       "(2640, 52)"
      ]
     },
     "execution_count": 17,
     "metadata": {},
     "output_type": "execute_result"
    }
   ],
   "source": [
    "X_train.shape"
   ]
  },
  {
   "cell_type": "code",
   "execution_count": 18,
   "id": "43bf2a5b",
   "metadata": {},
   "outputs": [
    {
     "data": {
      "text/plain": [
       "(2640,)"
      ]
     },
     "execution_count": 18,
     "metadata": {},
     "output_type": "execute_result"
    }
   ],
   "source": [
    "y_train.shape"
   ]
  },
  {
   "cell_type": "markdown",
   "id": "b0ec753f",
   "metadata": {},
   "source": [
    "#### Check that the data is balanced or not"
   ]
  },
  {
   "cell_type": "code",
   "execution_count": 19,
   "id": "92394324",
   "metadata": {},
   "outputs": [
    {
     "data": {
      "text/plain": [
       "array([-1, -1,  1, ..., -1, -1, -1], dtype=int64)"
      ]
     },
     "execution_count": 19,
     "metadata": {},
     "output_type": "execute_result"
    }
   ],
   "source": [
    "y_train"
   ]
  },
  {
   "cell_type": "code",
   "execution_count": null,
   "id": "26706f5b",
   "metadata": {},
   "outputs": [],
   "source": []
  },
  {
   "cell_type": "code",
   "execution_count": 20,
   "id": "a9a47cde",
   "metadata": {},
   "outputs": [],
   "source": [
    "#y_train.columns=['Class']"
   ]
  },
  {
   "cell_type": "code",
   "execution_count": 21,
   "id": "288408f6",
   "metadata": {},
   "outputs": [
    {
     "data": {
      "text/plain": [
       "array([-1, -1,  1, ..., -1, -1, -1], dtype=int64)"
      ]
     },
     "execution_count": 21,
     "metadata": {},
     "output_type": "execute_result"
    }
   ],
   "source": [
    "y_train"
   ]
  },
  {
   "cell_type": "code",
   "execution_count": null,
   "id": "70c9970d",
   "metadata": {},
   "outputs": [],
   "source": []
  },
  {
   "cell_type": "code",
   "execution_count": 23,
   "id": "6937b253",
   "metadata": {},
   "outputs": [
    {
     "data": {
      "text/plain": [
       "2487"
      ]
     },
     "execution_count": 23,
     "metadata": {},
     "output_type": "execute_result"
    }
   ],
   "source": [
    "len([c for c in y_train if c==-1])"
   ]
  },
  {
   "cell_type": "code",
   "execution_count": 24,
   "id": "47626fe8",
   "metadata": {},
   "outputs": [
    {
     "data": {
      "text/plain": [
       "153"
      ]
     },
     "execution_count": 24,
     "metadata": {},
     "output_type": "execute_result"
    }
   ],
   "source": [
    "len([c for c in y_train if c==1])"
   ]
  },
  {
   "cell_type": "code",
   "execution_count": null,
   "id": "750e4c62",
   "metadata": {},
   "outputs": [],
   "source": [
    "# Data is imbalance"
   ]
  },
  {
   "cell_type": "markdown",
   "id": "71e91f12",
   "metadata": {},
   "source": [
    "# Model with imbalance data point"
   ]
  },
  {
   "cell_type": "code",
   "execution_count": null,
   "id": "2896f143",
   "metadata": {},
   "outputs": [],
   "source": []
  },
  {
   "cell_type": "markdown",
   "id": "99871e2b",
   "metadata": {},
   "source": [
    "# SMOTE (Synthetic Minority Oversampling Technique)"
   ]
  },
  {
   "cell_type": "markdown",
   "id": "a50b05f1",
   "metadata": {},
   "source": [
    "#### Balanace the data using SMOTE(Synthetic Minority Oversampling Technique)"
   ]
  },
  {
   "cell_type": "code",
   "execution_count": 25,
   "id": "a41898ab",
   "metadata": {},
   "outputs": [],
   "source": [
    "from imblearn.over_sampling import SMOTE"
   ]
  },
  {
   "cell_type": "code",
   "execution_count": 26,
   "id": "3523b598",
   "metadata": {},
   "outputs": [],
   "source": [
    "sm = SMOTE()"
   ]
  },
  {
   "cell_type": "code",
   "execution_count": 27,
   "id": "d6e0c264",
   "metadata": {},
   "outputs": [],
   "source": [
    "X_train_smote, y_train_smote = sm.fit_resample(X_train.astype('float'),y_train)"
   ]
  },
  {
   "cell_type": "markdown",
   "id": "a65cc7c8",
   "metadata": {},
   "source": [
    "#### Count the row in each class of target feature using class Counter"
   ]
  },
  {
   "cell_type": "code",
   "execution_count": 28,
   "id": "dbb80148",
   "metadata": {},
   "outputs": [],
   "source": [
    "from collections import Counter"
   ]
  },
  {
   "cell_type": "code",
   "execution_count": 29,
   "id": "fc8ae50f",
   "metadata": {},
   "outputs": [
    {
     "name": "stdout",
     "output_type": "stream",
     "text": [
      "Before SMOTE:  Counter({-1: 2487, 1: 153})\n",
      "After SMOTE:  Counter({-1: 2487, 1: 2487})\n"
     ]
    }
   ],
   "source": [
    "print('Before SMOTE: ', Counter(y_train))\n",
    "print('After SMOTE: ', Counter(y_train_smote))"
   ]
  },
  {
   "cell_type": "markdown",
   "id": "7cfa4f7e",
   "metadata": {},
   "source": [
    "# Logistic Regresion with SMOTE"
   ]
  },
  {
   "cell_type": "markdown",
   "id": "4b1bb779",
   "metadata": {},
   "source": [
    "#### import logistic Regresion class from sklearn"
   ]
  },
  {
   "cell_type": "code",
   "execution_count": 30,
   "id": "5ec08a86",
   "metadata": {},
   "outputs": [],
   "source": [
    "from sklearn.linear_model import LogisticRegression"
   ]
  },
  {
   "cell_type": "code",
   "execution_count": 31,
   "id": "05760769",
   "metadata": {},
   "outputs": [],
   "source": [
    "LR_obj = LogisticRegression()"
   ]
  },
  {
   "cell_type": "code",
   "execution_count": 32,
   "id": "9066ff27",
   "metadata": {},
   "outputs": [
    {
     "data": {
      "text/plain": [
       "LogisticRegression()"
      ]
     },
     "execution_count": 32,
     "metadata": {},
     "output_type": "execute_result"
    }
   ],
   "source": [
    "LR_obj"
   ]
  },
  {
   "cell_type": "markdown",
   "id": "bcafb6e3",
   "metadata": {},
   "source": [
    "#### Fit the training data into logistic regression model"
   ]
  },
  {
   "cell_type": "code",
   "execution_count": 33,
   "id": "c6dc388a",
   "metadata": {},
   "outputs": [
    {
     "name": "stderr",
     "output_type": "stream",
     "text": [
      "C:\\Users\\kisan\\anaconda3\\lib\\site-packages\\sklearn\\linear_model\\_logistic.py:814: ConvergenceWarning: lbfgs failed to converge (status=1):\n",
      "STOP: TOTAL NO. of ITERATIONS REACHED LIMIT.\n",
      "\n",
      "Increase the number of iterations (max_iter) or scale the data as shown in:\n",
      "    https://scikit-learn.org/stable/modules/preprocessing.html\n",
      "Please also refer to the documentation for alternative solver options:\n",
      "    https://scikit-learn.org/stable/modules/linear_model.html#logistic-regression\n",
      "  n_iter_i = _check_optimize_result(\n"
     ]
    }
   ],
   "source": [
    "model =LR_obj.fit(X_train_smote,y_train_smote)"
   ]
  },
  {
   "cell_type": "markdown",
   "id": "913a7b67",
   "metadata": {},
   "source": [
    "#### Now, we have our fit model lets see how well we can predict the test values"
   ]
  },
  {
   "cell_type": "code",
   "execution_count": 34,
   "id": "55d6727c",
   "metadata": {},
   "outputs": [],
   "source": [
    "y_predict_smote = model.predict(X_test)"
   ]
  },
  {
   "cell_type": "code",
   "execution_count": null,
   "id": "16aa333e",
   "metadata": {},
   "outputs": [],
   "source": []
  },
  {
   "cell_type": "code",
   "execution_count": null,
   "id": "5e307402",
   "metadata": {},
   "outputs": [],
   "source": []
  },
  {
   "cell_type": "markdown",
   "id": "42935c72",
   "metadata": {},
   "source": [
    "#### Now lets evaluate the model---- Check accuracy"
   ]
  },
  {
   "cell_type": "code",
   "execution_count": 37,
   "id": "a9e51afc",
   "metadata": {},
   "outputs": [],
   "source": [
    "from sklearn.metrics import accuracy_score, precision_score, recall_score, confusion_matrix, precision_recall_curve, f1_score"
   ]
  },
  {
   "cell_type": "code",
   "execution_count": 64,
   "id": "e04c69d4",
   "metadata": {},
   "outputs": [],
   "source": [
    "accuracy_lr = accuracy_score(y_test,y_predict_smote)"
   ]
  },
  {
   "cell_type": "code",
   "execution_count": 65,
   "id": "41de2e8b",
   "metadata": {},
   "outputs": [
    {
     "data": {
      "text/plain": [
       "0.8939929328621908"
      ]
     },
     "execution_count": 65,
     "metadata": {},
     "output_type": "execute_result"
    }
   ],
   "source": [
    "accuracy_lr"
   ]
  },
  {
   "cell_type": "code",
   "execution_count": 39,
   "id": "b21bf2d6",
   "metadata": {},
   "outputs": [
    {
     "data": {
      "text/plain": [
       "array([[945, 109],\n",
       "       [ 11,  67]], dtype=int64)"
      ]
     },
     "execution_count": 39,
     "metadata": {},
     "output_type": "execute_result"
    }
   ],
   "source": [
    "confusion_matrix(y_test,y_predict_smote)"
   ]
  },
  {
   "cell_type": "code",
   "execution_count": 66,
   "id": "262e93e6",
   "metadata": {},
   "outputs": [],
   "source": [
    "precision_lr = precision_score(y_test, y_predict_smote)"
   ]
  },
  {
   "cell_type": "code",
   "execution_count": 67,
   "id": "9f6e9f36",
   "metadata": {},
   "outputs": [
    {
     "data": {
      "text/plain": [
       "0.3806818181818182"
      ]
     },
     "execution_count": 67,
     "metadata": {},
     "output_type": "execute_result"
    }
   ],
   "source": [
    "precision_lr"
   ]
  },
  {
   "cell_type": "code",
   "execution_count": 68,
   "id": "9c03578b",
   "metadata": {},
   "outputs": [],
   "source": [
    "recall_lr = recall_score(y_test, y_predict_smote)"
   ]
  },
  {
   "cell_type": "code",
   "execution_count": 69,
   "id": "143b0221",
   "metadata": {},
   "outputs": [
    {
     "data": {
      "text/plain": [
       "0.8589743589743589"
      ]
     },
     "execution_count": 69,
     "metadata": {},
     "output_type": "execute_result"
    }
   ],
   "source": [
    "recall_lr"
   ]
  },
  {
   "cell_type": "code",
   "execution_count": 71,
   "id": "f0e9abe3",
   "metadata": {},
   "outputs": [],
   "source": [
    "f1_lr = f1_score(y_test, y_predict_smote)"
   ]
  },
  {
   "cell_type": "code",
   "execution_count": 72,
   "id": "064bcfab",
   "metadata": {},
   "outputs": [
    {
     "data": {
      "text/plain": [
       "0.5275590551181102"
      ]
     },
     "execution_count": 72,
     "metadata": {},
     "output_type": "execute_result"
    }
   ],
   "source": [
    "f1_lr"
   ]
  },
  {
   "cell_type": "markdown",
   "id": "633be771",
   "metadata": {},
   "source": [
    "#  Decision Tree Classification with SMOTE"
   ]
  },
  {
   "cell_type": "markdown",
   "id": "e8145070",
   "metadata": {},
   "source": [
    "#### import Decision Tree Classification class from sklearn"
   ]
  },
  {
   "cell_type": "code",
   "execution_count": 43,
   "id": "4fd6e1b1",
   "metadata": {},
   "outputs": [],
   "source": [
    "from sklearn.tree import DecisionTreeClassifier"
   ]
  },
  {
   "cell_type": "code",
   "execution_count": 44,
   "id": "c0a45771",
   "metadata": {},
   "outputs": [],
   "source": [
    "model1 = DecisionTreeClassifier().fit(X_train_smote, y_train_smote)"
   ]
  },
  {
   "cell_type": "code",
   "execution_count": 45,
   "id": "170fdf5a",
   "metadata": {},
   "outputs": [],
   "source": [
    "y_predict_smote1 = model1.predict(X_test)"
   ]
  },
  {
   "cell_type": "code",
   "execution_count": 75,
   "id": "5140e852",
   "metadata": {},
   "outputs": [],
   "source": [
    "accuracy_dtc = accuracy_score(y_test,y_predict_smote1)"
   ]
  },
  {
   "cell_type": "code",
   "execution_count": 76,
   "id": "7b86cc48",
   "metadata": {},
   "outputs": [
    {
     "data": {
      "text/plain": [
       "0.9840989399293286"
      ]
     },
     "execution_count": 76,
     "metadata": {},
     "output_type": "execute_result"
    }
   ],
   "source": [
    "accuracy_dtc"
   ]
  },
  {
   "cell_type": "code",
   "execution_count": 47,
   "id": "c25af346",
   "metadata": {},
   "outputs": [
    {
     "data": {
      "text/plain": [
       "array([[1048,    6],\n",
       "       [  12,   66]], dtype=int64)"
      ]
     },
     "execution_count": 47,
     "metadata": {},
     "output_type": "execute_result"
    }
   ],
   "source": [
    "confusion_matrix(y_test,y_predict_smote1)"
   ]
  },
  {
   "cell_type": "code",
   "execution_count": 77,
   "id": "2dd9b78b",
   "metadata": {},
   "outputs": [],
   "source": [
    "precision_dtc = precision_score(y_test, y_predict_smote1)"
   ]
  },
  {
   "cell_type": "code",
   "execution_count": 78,
   "id": "28a4f3fc",
   "metadata": {},
   "outputs": [
    {
     "data": {
      "text/plain": [
       "0.9166666666666666"
      ]
     },
     "execution_count": 78,
     "metadata": {},
     "output_type": "execute_result"
    }
   ],
   "source": [
    "precision_dtc"
   ]
  },
  {
   "cell_type": "code",
   "execution_count": 79,
   "id": "9bf8a001",
   "metadata": {},
   "outputs": [],
   "source": [
    "recall_dtc = recall_score(y_test, y_predict_smote1)"
   ]
  },
  {
   "cell_type": "code",
   "execution_count": 80,
   "id": "db99dcf6",
   "metadata": {},
   "outputs": [
    {
     "data": {
      "text/plain": [
       "0.8461538461538461"
      ]
     },
     "execution_count": 80,
     "metadata": {},
     "output_type": "execute_result"
    }
   ],
   "source": [
    "recall_dtc"
   ]
  },
  {
   "cell_type": "code",
   "execution_count": 81,
   "id": "b34c1044",
   "metadata": {},
   "outputs": [],
   "source": [
    "f1_dtc = f1_score(y_test, y_predict_smote1)"
   ]
  },
  {
   "cell_type": "code",
   "execution_count": 82,
   "id": "c9bdeec4",
   "metadata": {},
   "outputs": [
    {
     "data": {
      "text/plain": [
       "0.8799999999999999"
      ]
     },
     "execution_count": 82,
     "metadata": {},
     "output_type": "execute_result"
    }
   ],
   "source": [
    "f1_dtc"
   ]
  },
  {
   "cell_type": "markdown",
   "id": "e975d556",
   "metadata": {},
   "source": [
    "# Random Over Sampling"
   ]
  },
  {
   "cell_type": "markdown",
   "id": "3da43ffb",
   "metadata": {},
   "source": [
    "#### Import RandomOverSampler class for balancing data points"
   ]
  },
  {
   "cell_type": "code",
   "execution_count": 51,
   "id": "11c9b7bf",
   "metadata": {},
   "outputs": [],
   "source": [
    "from imblearn.over_sampling import RandomOverSampler"
   ]
  },
  {
   "cell_type": "code",
   "execution_count": 52,
   "id": "b7cda3a4",
   "metadata": {},
   "outputs": [
    {
     "name": "stderr",
     "output_type": "stream",
     "text": [
      "C:\\Users\\kisan\\anaconda3\\lib\\site-packages\\imblearn\\utils\\_validation.py:586: FutureWarning: Pass sampling_strategy=0.75 as keyword args. From version 0.9 passing these as positional arguments will result in an error\n",
      "  warnings.warn(\n"
     ]
    }
   ],
   "source": [
    "ros = RandomOverSampler(0.75)"
   ]
  },
  {
   "cell_type": "code",
   "execution_count": 53,
   "id": "b2b7e14a",
   "metadata": {},
   "outputs": [],
   "source": [
    "X_train_ros, y_train_ros = ros.fit_resample(X_train, y_train)"
   ]
  },
  {
   "cell_type": "code",
   "execution_count": 54,
   "id": "98797b4a",
   "metadata": {},
   "outputs": [
    {
     "data": {
      "text/plain": [
       "array([[51.,  1.,  0., ...,  0.,  0.,  0.],\n",
       "       [50.,  1.,  0., ...,  0.,  0.,  0.],\n",
       "       [83.,  0.,  1., ...,  0.,  0.,  1.],\n",
       "       ...,\n",
       "       [80.,  1.,  0., ...,  0.,  0.,  1.],\n",
       "       [62.,  0.,  1., ...,  0.,  0.,  1.],\n",
       "       [70.,  1.,  0., ...,  0.,  0.,  0.]])"
      ]
     },
     "execution_count": 54,
     "metadata": {},
     "output_type": "execute_result"
    }
   ],
   "source": [
    "X_train_ros"
   ]
  },
  {
   "cell_type": "markdown",
   "id": "e0f1ec61",
   "metadata": {},
   "source": [
    "#### Count the data points in each class of target feature using class Counter"
   ]
  },
  {
   "cell_type": "code",
   "execution_count": 55,
   "id": "881b8929",
   "metadata": {},
   "outputs": [
    {
     "name": "stdout",
     "output_type": "stream",
     "text": [
      "Before Random Over Sampling:  Counter({-1: 2487, 1: 153})\n",
      "After Random Over Sampling:  Counter({-1: 2487, 1: 1865})\n"
     ]
    }
   ],
   "source": [
    "print('Before Random Over Sampling: ', Counter(y_train))\n",
    "print('After Random Over Sampling: ', Counter(y_train_ros))"
   ]
  },
  {
   "cell_type": "markdown",
   "id": "59da83e2",
   "metadata": {},
   "source": [
    "# Logistic Regression with Random Sampling"
   ]
  },
  {
   "cell_type": "code",
   "execution_count": 56,
   "id": "36a1a2e6",
   "metadata": {},
   "outputs": [
    {
     "name": "stderr",
     "output_type": "stream",
     "text": [
      "C:\\Users\\kisan\\anaconda3\\lib\\site-packages\\sklearn\\linear_model\\_logistic.py:814: ConvergenceWarning: lbfgs failed to converge (status=1):\n",
      "STOP: TOTAL NO. of ITERATIONS REACHED LIMIT.\n",
      "\n",
      "Increase the number of iterations (max_iter) or scale the data as shown in:\n",
      "    https://scikit-learn.org/stable/modules/preprocessing.html\n",
      "Please also refer to the documentation for alternative solver options:\n",
      "    https://scikit-learn.org/stable/modules/linear_model.html#logistic-regression\n",
      "  n_iter_i = _check_optimize_result(\n"
     ]
    }
   ],
   "source": [
    "model_ros = LogisticRegression().fit(X_train_ros,y_train_ros)"
   ]
  },
  {
   "cell_type": "code",
   "execution_count": 57,
   "id": "90940c77",
   "metadata": {},
   "outputs": [
    {
     "data": {
      "text/plain": [
       "LogisticRegression()"
      ]
     },
     "execution_count": 57,
     "metadata": {},
     "output_type": "execute_result"
    }
   ],
   "source": [
    "model_ros"
   ]
  },
  {
   "cell_type": "code",
   "execution_count": 58,
   "id": "4e72a90d",
   "metadata": {},
   "outputs": [],
   "source": [
    "y_predict_ros = model_ros.predict(X_test)"
   ]
  },
  {
   "cell_type": "markdown",
   "id": "d7d4b4b5",
   "metadata": {},
   "source": [
    "#### Now lets evaluate the model---- Check accuracy"
   ]
  },
  {
   "cell_type": "code",
   "execution_count": 85,
   "id": "0dcbd662",
   "metadata": {},
   "outputs": [],
   "source": [
    "accuracy_lr_ros = accuracy_score(y_test,y_predict_ros)"
   ]
  },
  {
   "cell_type": "code",
   "execution_count": 86,
   "id": "a91029df",
   "metadata": {},
   "outputs": [
    {
     "data": {
      "text/plain": [
       "0.9081272084805654"
      ]
     },
     "execution_count": 86,
     "metadata": {},
     "output_type": "execute_result"
    }
   ],
   "source": [
    "accuracy_lr_ros"
   ]
  },
  {
   "cell_type": "code",
   "execution_count": 87,
   "id": "7ce9fb0f",
   "metadata": {},
   "outputs": [],
   "source": [
    "precision_lr_ros = precision_score(y_test,y_predict_ros)"
   ]
  },
  {
   "cell_type": "code",
   "execution_count": 88,
   "id": "96080085",
   "metadata": {},
   "outputs": [
    {
     "data": {
      "text/plain": [
       "0.41975308641975306"
      ]
     },
     "execution_count": 88,
     "metadata": {},
     "output_type": "execute_result"
    }
   ],
   "source": [
    "precision_lr_ros"
   ]
  },
  {
   "cell_type": "code",
   "execution_count": 89,
   "id": "2ddbb5f6",
   "metadata": {},
   "outputs": [],
   "source": [
    "recall_lr_ros = recall_score(y_test,y_predict_ros)"
   ]
  },
  {
   "cell_type": "code",
   "execution_count": 90,
   "id": "f2162ffa",
   "metadata": {},
   "outputs": [
    {
     "data": {
      "text/plain": [
       "0.8717948717948718"
      ]
     },
     "execution_count": 90,
     "metadata": {},
     "output_type": "execute_result"
    }
   ],
   "source": [
    "recall_lr_ros"
   ]
  },
  {
   "cell_type": "code",
   "execution_count": 91,
   "id": "ec05cf09",
   "metadata": {},
   "outputs": [],
   "source": [
    "f1_lr_ros = f1_score(y_test,y_predict_ros)"
   ]
  },
  {
   "cell_type": "code",
   "execution_count": 92,
   "id": "9847ae7a",
   "metadata": {},
   "outputs": [
    {
     "data": {
      "text/plain": [
       "0.5666666666666667"
      ]
     },
     "execution_count": 92,
     "metadata": {},
     "output_type": "execute_result"
    }
   ],
   "source": [
    "f1_lr_ros"
   ]
  },
  {
   "cell_type": "code",
   "execution_count": 63,
   "id": "595cffbe",
   "metadata": {},
   "outputs": [
    {
     "data": {
      "text/plain": [
       "array([[960,  94],\n",
       "       [ 10,  68]], dtype=int64)"
      ]
     },
     "execution_count": 63,
     "metadata": {},
     "output_type": "execute_result"
    }
   ],
   "source": [
    "confusion_matrix(y_test,y_predict_ros)"
   ]
  },
  {
   "cell_type": "markdown",
   "id": "d00e6153",
   "metadata": {},
   "source": [
    "# Decision Tree Classification with Random Sampling"
   ]
  },
  {
   "cell_type": "code",
   "execution_count": 98,
   "id": "4e9832de",
   "metadata": {},
   "outputs": [],
   "source": [
    "model_dtc_ros = DecisionTreeClassifier().fit(X_train_ros,y_train_ros)"
   ]
  },
  {
   "cell_type": "code",
   "execution_count": 100,
   "id": "685ff13a",
   "metadata": {},
   "outputs": [],
   "source": [
    "y_predict_dtc_ros = model_dtc_ros.predict(X_test)"
   ]
  },
  {
   "cell_type": "markdown",
   "id": "1c09870c",
   "metadata": {},
   "source": [
    "#### Now lets evaluate the model---- Check accuracy"
   ]
  },
  {
   "cell_type": "code",
   "execution_count": 101,
   "id": "07cc7833",
   "metadata": {},
   "outputs": [],
   "source": [
    "accuracy_dtc_ros = accuracy_score(y_test,y_predict_dtc_ros)"
   ]
  },
  {
   "cell_type": "code",
   "execution_count": 102,
   "id": "72d4cb56",
   "metadata": {},
   "outputs": [
    {
     "data": {
      "text/plain": [
       "0.984982332155477"
      ]
     },
     "execution_count": 102,
     "metadata": {},
     "output_type": "execute_result"
    }
   ],
   "source": [
    "accuracy_dtc_ros"
   ]
  },
  {
   "cell_type": "code",
   "execution_count": 103,
   "id": "553459b2",
   "metadata": {},
   "outputs": [],
   "source": [
    "precision_dtc_ros = precision_score(y_test,y_predict_dtc_ros)"
   ]
  },
  {
   "cell_type": "code",
   "execution_count": 104,
   "id": "9018378c",
   "metadata": {},
   "outputs": [
    {
     "data": {
      "text/plain": [
       "0.9552238805970149"
      ]
     },
     "execution_count": 104,
     "metadata": {},
     "output_type": "execute_result"
    }
   ],
   "source": [
    "precision_dtc_ros"
   ]
  },
  {
   "cell_type": "code",
   "execution_count": 105,
   "id": "4f607f97",
   "metadata": {},
   "outputs": [],
   "source": [
    "recall_dtc_ros = recall_score(y_test,y_predict_dtc_ros)"
   ]
  },
  {
   "cell_type": "code",
   "execution_count": 106,
   "id": "606c1fae",
   "metadata": {},
   "outputs": [
    {
     "data": {
      "text/plain": [
       "0.8205128205128205"
      ]
     },
     "execution_count": 106,
     "metadata": {},
     "output_type": "execute_result"
    }
   ],
   "source": [
    "recall_dtc_ros"
   ]
  },
  {
   "cell_type": "code",
   "execution_count": 107,
   "id": "71839697",
   "metadata": {},
   "outputs": [],
   "source": [
    "f1_dtc_ros = f1_score(y_test,y_predict_dtc_ros)"
   ]
  },
  {
   "cell_type": "code",
   "execution_count": 108,
   "id": "d526bc82",
   "metadata": {},
   "outputs": [
    {
     "data": {
      "text/plain": [
       "0.8827586206896552"
      ]
     },
     "execution_count": 108,
     "metadata": {},
     "output_type": "execute_result"
    }
   ],
   "source": [
    "f1_dtc_ros"
   ]
  },
  {
   "cell_type": "code",
   "execution_count": null,
   "id": "e0d86bea",
   "metadata": {},
   "outputs": [],
   "source": []
  },
  {
   "cell_type": "code",
   "execution_count": null,
   "id": "bb160ee3",
   "metadata": {},
   "outputs": [],
   "source": []
  },
  {
   "cell_type": "markdown",
   "id": "7521f2a1",
   "metadata": {},
   "source": [
    "# Compare the model with SMOTE over sampling technique"
   ]
  },
  {
   "cell_type": "markdown",
   "id": "96581f8d",
   "metadata": {},
   "source": [
    "### Logistic Regression with SMOTE sampling"
   ]
  },
  {
   "cell_type": "code",
   "execution_count": 73,
   "id": "4dcb139c",
   "metadata": {},
   "outputs": [],
   "source": [
    "Logistic_Regression_smote = pd.DataFrame([accuracy_lr,precision_lr,recall_lr,f1_lr],['Accuracy','Precision','Recall','F1'], columns=['Score'] )"
   ]
  },
  {
   "cell_type": "code",
   "execution_count": 74,
   "id": "12cf6574",
   "metadata": {},
   "outputs": [
    {
     "data": {
      "text/html": [
       "<div>\n",
       "<style scoped>\n",
       "    .dataframe tbody tr th:only-of-type {\n",
       "        vertical-align: middle;\n",
       "    }\n",
       "\n",
       "    .dataframe tbody tr th {\n",
       "        vertical-align: top;\n",
       "    }\n",
       "\n",
       "    .dataframe thead th {\n",
       "        text-align: right;\n",
       "    }\n",
       "</style>\n",
       "<table border=\"1\" class=\"dataframe\">\n",
       "  <thead>\n",
       "    <tr style=\"text-align: right;\">\n",
       "      <th></th>\n",
       "      <th>Score</th>\n",
       "    </tr>\n",
       "  </thead>\n",
       "  <tbody>\n",
       "    <tr>\n",
       "      <th>Accuracy</th>\n",
       "      <td>0.893993</td>\n",
       "    </tr>\n",
       "    <tr>\n",
       "      <th>Precision</th>\n",
       "      <td>0.380682</td>\n",
       "    </tr>\n",
       "    <tr>\n",
       "      <th>Recall</th>\n",
       "      <td>0.858974</td>\n",
       "    </tr>\n",
       "    <tr>\n",
       "      <th>F1</th>\n",
       "      <td>0.527559</td>\n",
       "    </tr>\n",
       "  </tbody>\n",
       "</table>\n",
       "</div>"
      ],
      "text/plain": [
       "              Score\n",
       "Accuracy   0.893993\n",
       "Precision  0.380682\n",
       "Recall     0.858974\n",
       "F1         0.527559"
      ]
     },
     "execution_count": 74,
     "metadata": {},
     "output_type": "execute_result"
    }
   ],
   "source": [
    "Logistic_Regression_smote"
   ]
  },
  {
   "cell_type": "markdown",
   "id": "13e66b41",
   "metadata": {},
   "source": [
    "### Decision Tree Classification with SMOTE sampling"
   ]
  },
  {
   "cell_type": "code",
   "execution_count": 94,
   "id": "0140719c",
   "metadata": {},
   "outputs": [],
   "source": [
    "Decision_Tree_smote = pd.DataFrame([accuracy_dtc,precision_dtc,recall_dtc,f1_dtc],['Accuracy','Precision','Recall','F1'], columns=['Score'] )"
   ]
  },
  {
   "cell_type": "code",
   "execution_count": 95,
   "id": "2c33ed82",
   "metadata": {},
   "outputs": [
    {
     "data": {
      "text/html": [
       "<div>\n",
       "<style scoped>\n",
       "    .dataframe tbody tr th:only-of-type {\n",
       "        vertical-align: middle;\n",
       "    }\n",
       "\n",
       "    .dataframe tbody tr th {\n",
       "        vertical-align: top;\n",
       "    }\n",
       "\n",
       "    .dataframe thead th {\n",
       "        text-align: right;\n",
       "    }\n",
       "</style>\n",
       "<table border=\"1\" class=\"dataframe\">\n",
       "  <thead>\n",
       "    <tr style=\"text-align: right;\">\n",
       "      <th></th>\n",
       "      <th>Score</th>\n",
       "    </tr>\n",
       "  </thead>\n",
       "  <tbody>\n",
       "    <tr>\n",
       "      <th>Accuracy</th>\n",
       "      <td>0.984099</td>\n",
       "    </tr>\n",
       "    <tr>\n",
       "      <th>Precision</th>\n",
       "      <td>0.916667</td>\n",
       "    </tr>\n",
       "    <tr>\n",
       "      <th>Recall</th>\n",
       "      <td>0.846154</td>\n",
       "    </tr>\n",
       "    <tr>\n",
       "      <th>F1</th>\n",
       "      <td>0.880000</td>\n",
       "    </tr>\n",
       "  </tbody>\n",
       "</table>\n",
       "</div>"
      ],
      "text/plain": [
       "              Score\n",
       "Accuracy   0.984099\n",
       "Precision  0.916667\n",
       "Recall     0.846154\n",
       "F1         0.880000"
      ]
     },
     "execution_count": 95,
     "metadata": {},
     "output_type": "execute_result"
    }
   ],
   "source": [
    "Decision_Tree_smote"
   ]
  },
  {
   "cell_type": "markdown",
   "id": "189860b5",
   "metadata": {},
   "source": [
    "# Compare the model with Random over sampling technique"
   ]
  },
  {
   "cell_type": "markdown",
   "id": "cdb23088",
   "metadata": {},
   "source": [
    "### Logistic Regression with Random over sampling"
   ]
  },
  {
   "cell_type": "code",
   "execution_count": 96,
   "id": "5df4a2d6",
   "metadata": {},
   "outputs": [],
   "source": [
    "Logistic_Regression_ros = pd.DataFrame([accuracy_lr_ros,precision_lr_ros,recall_lr_ros,f1_lr_ros],['Accuracy','Precision','Recall','F1'], columns=['Score'] )"
   ]
  },
  {
   "cell_type": "code",
   "execution_count": 97,
   "id": "bd842147",
   "metadata": {},
   "outputs": [
    {
     "data": {
      "text/html": [
       "<div>\n",
       "<style scoped>\n",
       "    .dataframe tbody tr th:only-of-type {\n",
       "        vertical-align: middle;\n",
       "    }\n",
       "\n",
       "    .dataframe tbody tr th {\n",
       "        vertical-align: top;\n",
       "    }\n",
       "\n",
       "    .dataframe thead th {\n",
       "        text-align: right;\n",
       "    }\n",
       "</style>\n",
       "<table border=\"1\" class=\"dataframe\">\n",
       "  <thead>\n",
       "    <tr style=\"text-align: right;\">\n",
       "      <th></th>\n",
       "      <th>Score</th>\n",
       "    </tr>\n",
       "  </thead>\n",
       "  <tbody>\n",
       "    <tr>\n",
       "      <th>Accuracy</th>\n",
       "      <td>0.908127</td>\n",
       "    </tr>\n",
       "    <tr>\n",
       "      <th>Precision</th>\n",
       "      <td>0.419753</td>\n",
       "    </tr>\n",
       "    <tr>\n",
       "      <th>Recall</th>\n",
       "      <td>0.871795</td>\n",
       "    </tr>\n",
       "    <tr>\n",
       "      <th>F1</th>\n",
       "      <td>0.566667</td>\n",
       "    </tr>\n",
       "  </tbody>\n",
       "</table>\n",
       "</div>"
      ],
      "text/plain": [
       "              Score\n",
       "Accuracy   0.908127\n",
       "Precision  0.419753\n",
       "Recall     0.871795\n",
       "F1         0.566667"
      ]
     },
     "execution_count": 97,
     "metadata": {},
     "output_type": "execute_result"
    }
   ],
   "source": [
    "Logistic_Regression_ros"
   ]
  },
  {
   "cell_type": "markdown",
   "id": "1731a84f",
   "metadata": {},
   "source": [
    "### Decision tree classification with Random over sampling"
   ]
  },
  {
   "cell_type": "code",
   "execution_count": 109,
   "id": "2186bff6",
   "metadata": {},
   "outputs": [],
   "source": [
    "Decision_Tree_ros = pd.DataFrame([accuracy_dtc_ros,precision_dtc_ros,recall_dtc_ros,f1_dtc_ros],['Accuracy','Precision','Recall','F1'], columns=['Score'] )"
   ]
  },
  {
   "cell_type": "code",
   "execution_count": 110,
   "id": "ae37d70b",
   "metadata": {},
   "outputs": [
    {
     "data": {
      "text/html": [
       "<div>\n",
       "<style scoped>\n",
       "    .dataframe tbody tr th:only-of-type {\n",
       "        vertical-align: middle;\n",
       "    }\n",
       "\n",
       "    .dataframe tbody tr th {\n",
       "        vertical-align: top;\n",
       "    }\n",
       "\n",
       "    .dataframe thead th {\n",
       "        text-align: right;\n",
       "    }\n",
       "</style>\n",
       "<table border=\"1\" class=\"dataframe\">\n",
       "  <thead>\n",
       "    <tr style=\"text-align: right;\">\n",
       "      <th></th>\n",
       "      <th>Score</th>\n",
       "    </tr>\n",
       "  </thead>\n",
       "  <tbody>\n",
       "    <tr>\n",
       "      <th>Accuracy</th>\n",
       "      <td>0.984982</td>\n",
       "    </tr>\n",
       "    <tr>\n",
       "      <th>Precision</th>\n",
       "      <td>0.955224</td>\n",
       "    </tr>\n",
       "    <tr>\n",
       "      <th>Recall</th>\n",
       "      <td>0.820513</td>\n",
       "    </tr>\n",
       "    <tr>\n",
       "      <th>F1</th>\n",
       "      <td>0.882759</td>\n",
       "    </tr>\n",
       "  </tbody>\n",
       "</table>\n",
       "</div>"
      ],
      "text/plain": [
       "              Score\n",
       "Accuracy   0.984982\n",
       "Precision  0.955224\n",
       "Recall     0.820513\n",
       "F1         0.882759"
      ]
     },
     "execution_count": 110,
     "metadata": {},
     "output_type": "execute_result"
    }
   ],
   "source": [
    "Decision_Tree_ros"
   ]
  },
  {
   "cell_type": "code",
   "execution_count": null,
   "id": "d448501d",
   "metadata": {},
   "outputs": [],
   "source": []
  }
 ],
 "metadata": {
  "kernelspec": {
   "display_name": "Python 3",
   "language": "python",
   "name": "python3"
  },
  "language_info": {
   "codemirror_mode": {
    "name": "ipython",
    "version": 3
   },
   "file_extension": ".py",
   "mimetype": "text/x-python",
   "name": "python",
   "nbconvert_exporter": "python",
   "pygments_lexer": "ipython3",
   "version": "3.8.8"
  }
 },
 "nbformat": 4,
 "nbformat_minor": 5
}
